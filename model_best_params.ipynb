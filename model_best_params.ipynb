{
 "cells": [
  {
   "cell_type": "markdown",
   "metadata": {},
   "source": [
    "### Напишем функцию, которой на вход будет подаваться тренеровочное множество, а на выходе будет модель с оптимальными гиперпараметрами"
   ]
  },
  {
   "cell_type": "code",
   "execution_count": 1,
   "metadata": {},
   "outputs": [],
   "source": [
    "from sklearn.model_selection import train_test_split\n",
    "from sklearn.model_selection import RandomizedSearchCV\n",
    "from sklearn import ensemble"
   ]
  },
  {
   "cell_type": "code",
   "execution_count": 2,
   "metadata": {},
   "outputs": [],
   "source": [
    "# Входные параметры функции:\n",
    "# x_train – множество признаков для обучения модели\n",
    "# y_train – массив с моделируемым признаком\n",
    "\n",
    "def optim_model(x_train, y_train):\n",
    "    \n",
    "    # выберем параетры для кросс-валидации\n",
    "    loss = ['ls', 'lad', 'huber', 'quantile']\n",
    "    n_estimators = range(20, 601, 20)\n",
    "    max_depth = range(2, 11)\n",
    "    min_samples_leaf = [1, 2, 4, 6, 8]\n",
    "    min_samples_split = [2, 4, 6, 8, 10]\n",
    "    max_features = ['auto', 'sqrt', 'log2', None]\n",
    "\n",
    "    # зададим параметры в кросс-валидацию\n",
    "    hyperparameter_grid = {'loss': loss,\n",
    "        'n_estimators': n_estimators,\n",
    "        'max_depth': max_depth,\n",
    "        'min_samples_leaf': min_samples_leaf,\n",
    "        'min_samples_split': min_samples_split,\n",
    "        'max_features': max_features}\n",
    "\n",
    "    # выберем модель и зададим параметры кросс-валидации\n",
    "    model = ensemble.GradientBoostingRegressor(random_state = 42)\n",
    "\n",
    "    random_cv = RandomizedSearchCV(estimator=model,\n",
    "        param_distributions=hyperparameter_grid,\n",
    "        cv=4, n_iter=25, \n",
    "        scoring = 'neg_mean_absolute_error',\n",
    "        n_jobs = -1, verbose = 1, \n",
    "        return_train_score = True,\n",
    "        random_state=42)\n",
    "\n",
    "    # запустим кросс-валидацию для выбора параметров\n",
    "    random_cv.fit(x_train, y_train)\n",
    "\n",
    "    # выберем лучшие параметры модели и установим параметры в модель\n",
    "    bp = random_cv.best_params_# best_estimator_.\n",
    "    model.set_params(n_estimators = bp['n_estimators'], min_samples_split = bp['min_samples_split'],\n",
    "                    min_samples_leaf = bp['min_samples_leaf'], max_features = bp['max_features'],\n",
    "                    max_depth = bp['max_depth'], loss = bp['loss'])\n",
    "    # обучим модель\n",
    "    model.fit(x_train, y_train)\n",
    "    \n",
    "    return model"
   ]
  },
  {
   "cell_type": "code",
   "execution_count": 1,
   "metadata": {},
   "outputs": [],
   "source": [
    "# Функция логистического распределения\n",
    "def logistic_distr(*x, mu, s):\n",
    "    for elem in x:\n",
    "        print(elem)"
   ]
  },
  {
   "cell_type": "code",
   "execution_count": null,
   "metadata": {},
   "outputs": [],
   "source": []
  }
 ],
 "metadata": {
  "kernelspec": {
   "display_name": "Python 3",
   "language": "python",
   "name": "python3"
  },
  "language_info": {
   "codemirror_mode": {
    "name": "ipython",
    "version": 3
   },
   "file_extension": ".py",
   "mimetype": "text/x-python",
   "name": "python",
   "nbconvert_exporter": "python",
   "pygments_lexer": "ipython3",
   "version": "3.7.1"
  }
 },
 "nbformat": 4,
 "nbformat_minor": 2
}
